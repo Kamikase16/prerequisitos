{
 "metadata": {
  "language_info": {
   "codemirror_mode": {
    "name": "ipython",
    "version": 3
   },
   "file_extension": ".py",
   "mimetype": "text/x-python",
   "name": "python",
   "nbconvert_exporter": "python",
   "pygments_lexer": "ipython3",
   "version": "3.8.3-final"
  },
  "orig_nbformat": 2,
  "kernelspec": {
   "name": "Python 3.8.3 64-bit ('base': conda)",
   "display_name": "Python 3.8.3 64-bit ('base': conda)",
   "metadata": {
    "interpreter": {
     "hash": "1442c7a9ee0d39e7c5495675b38f297327be27a3ea54894fa6715e1cf6325188"
    }
   }
  }
 },
 "nbformat": 4,
 "nbformat_minor": 2,
 "cells": [
  {
   "cell_type": "code",
   "execution_count": 4,
   "metadata": {},
   "outputs": [
    {
     "output_type": "stream",
     "name": "stdout",
     "text": [
      "Te fuiste muy abajo\n"
     ]
    }
   ],
   "source": [
    "respuesta = 12\n",
    "numero    = 24\n",
    "\n",
    "if respuesta > numero:\n",
    "    resp = 'Te fuiste muy arriba'\n",
    "if respuesta < numero:\n",
    "    resp = 'Te fuiste muy abajo'\n",
    "if resp == numero:\n",
    "    resp = 'Ese es el numero, atinaste'\n",
    "    \n",
    "print(resp)"
   ]
  },
  {
   "cell_type": "code",
   "execution_count": 7,
   "metadata": {},
   "outputs": [
    {
     "output_type": "stream",
     "name": "stdout",
     "text": [
      "salario total:  845.5\n"
     ]
    }
   ],
   "source": [
    "salario= 950\n",
    "\n",
    "if salario >= 900:\n",
    "    a=(salario*0.0975)\n",
    "    b=(salario*0.0125)\n",
    "    c=salario-a-b\n",
    "    print('salario total: ', c)\n",
    "if salario < 900:\n",
    "    print( ' salario total: ', salario)"
   ]
  },
  {
   "cell_type": "code",
   "execution_count": 15,
   "metadata": {},
   "outputs": [
    {
     "output_type": "stream",
     "name": "stdout",
     "text": [
      "no se choco\n"
     ]
    }
   ],
   "source": [
    "    tiempo = 10\n",
    "    distancia = 0.5\n",
    "    velocidad = 0.2\n",
    "\n",
    "    if 10 > tiempo > 1 and velocidad*tiempo > 4 and distancia > 0.2 and tiempo and (not(velocidad/t**2 > 0.1) or distancia < 1 ) and (velocidad*tiempo > 0.5 or distancia/tiempo > 10):\n",
    "    \tprint(\"Se choco\")\n",
    "    else: \n",
    "        print('no se choco')"
   ]
  },
  {
   "cell_type": "code",
   "execution_count": 20,
   "metadata": {},
   "outputs": [
    {
     "output_type": "stream",
     "name": "stdout",
     "text": [
      "['Na', 'Br', 'Ca', 'Cu', 'Au', 'Nd', 'Ag']\n"
     ]
    }
   ],
   "source": [
    "tabla_periodica = ['na', 'br', 'ca', 'cu', 'au', 'nd', 'ag']\n",
    "\n",
    "for n in range(len(table_periodica)):\n",
    "\ttable_periodica[n] = table_periodica[n].capitalize()\n",
    "\n",
    "\n",
    "print(table_periodica)\n"
   ]
  },
  {
   "cell_type": "code",
   "execution_count": 22,
   "metadata": {},
   "outputs": [
    {
     "output_type": "stream",
     "name": "stdout",
     "text": [
      " Por desenredar el enredo que ayer enredé. Hoy enredo el desenredo que desenredé ayer. \n"
     ]
    }
   ],
   "source": [
    "\n",
    "trabalenguas = ['Por', 'desenredar', 'el', 'enredo', 'que', 'ayer', 'enredé.', 'Hoy', 'enredo',\n",
    "                'el', 'desenredo', 'que', 'desenredé', 'ayer.']\n",
    "\n",
    "respu= ' '\n",
    "\n",
    "for n in range(len(trabalenguas)):\n",
    "    respu=respu+trabalenguas[n]+' '\n",
    "\n",
    "print(respu)\n"
   ]
  },
  {
   "cell_type": "code",
   "execution_count": 57,
   "metadata": {},
   "outputs": [
    {
     "output_type": "stream",
     "name": "stdout",
     "text": [
      "720\n"
     ]
    }
   ],
   "source": [
    "num= 6\n",
    "fact= 1\n",
    "\n",
    "for i in range(fact,7,1):\n",
    "    fact = fact * i\n",
    "\n",
    "print(fact)\n"
   ]
  },
  {
   "cell_type": "code",
   "execution_count": 27,
   "metadata": {},
   "outputs": [
    {
     "output_type": "stream",
     "name": "stdout",
     "text": [
      "465\n"
     ]
    }
   ],
   "source": [
    "num=0\n",
    "suma=0\n",
    "\n",
    "for i in range(0,31,1):\n",
    "    suma=suma+i\n",
    "\n",
    "print(suma)"
   ]
  },
  {
   "cell_type": "code",
   "execution_count": 28,
   "metadata": {},
   "outputs": [
    {
     "output_type": "stream",
     "name": "stdout",
     "text": [
      "himura-kenshin\nkamiya-kaoru\nmyōjin-yahiko\nsagara-sanosuke\ntakani-megumi\nshinomori-aoshi\nsaitō-hajime\nmakimachi-misao\n"
     ]
    }
   ],
   "source": [
    "nombres = [\n",
    "    'Himura Kenshin',\n",
    "    'Kamiya Kaoru',\n",
    "    'Myōjin Yahiko',\n",
    "    'Sagara Sanosuke',\n",
    "    'Takani Megumi',\n",
    "    'Shinomori Aoshi',\n",
    "    'Saitō Hajime',\n",
    "    'Makimachi Misao'\n",
    "]\n",
    "nombresfinal= []\n",
    "for n in range(len(nombres)):\n",
    "    nombres[n] = nombres[n].lower()\n",
    "    nombres[n] = nombres[n].replace(\" \", \"-\")\n",
    "    print(nombres[n])"
   ]
  },
  {
   "cell_type": "code",
   "execution_count": 29,
   "metadata": {},
   "outputs": [
    {
     "output_type": "stream",
     "name": "stdout",
     "text": [
      "74\n"
     ]
    }
   ],
   "source": [
    "\n",
    "edades = {'Juan':10, 'Javier': 4, 'Jonas':8, 'Nuria': 20, 'Edith': 18, 'Ana':14}\n",
    "\n",
    "edadtotal = 0\n",
    "for n in edades.values():\n",
    "    edadtotal = edadtotal + n\n",
    "\n",
    "print(edadtotal)"
   ]
  },
  {
   "cell_type": "code",
   "execution_count": 33,
   "metadata": {},
   "outputs": [
    {
     "output_type": "stream",
     "name": "stdout",
     "text": [
      "720\n"
     ]
    }
   ],
   "source": [
    "fact= 1\n",
    "n = 1\n",
    "\n",
    "while n < 7:\n",
    "    fact = fact*(n)\n",
    "    n += 1\n",
    "\n",
    "print(fact)"
   ]
  },
  {
   "cell_type": "code",
   "execution_count": 36,
   "metadata": {},
   "outputs": [
    {
     "output_type": "stream",
     "name": "stdout",
     "text": [
      "1\n3\n5\n7\n9\n11\n13\n15\n"
     ]
    }
   ],
   "source": [
    "lista = list(range(16))\n",
    "num_impar=[]\n",
    "n=0\n",
    "n1=0\n",
    "\n",
    "while n < len(lista):\n",
    "    if lista[n] % 2 == 1:\n",
    "        num_impar.append(lista[n])\n",
    "    n +=1\n",
    "while n1 < len(num_impar):\n",
    "    print(num_impar[n1])\n",
    "    n1 += 1\n",
    "\n"
   ]
  },
  {
   "cell_type": "code",
   "execution_count": 37,
   "metadata": {},
   "outputs": [
    {
     "output_type": "stream",
     "name": "stdout",
     "text": [
      "El número más cercano es 21\n"
     ]
    }
   ],
   "source": [
    "num = 456\n",
    "n=0\n",
    "mayor=0\n",
    "\n",
    "while mayor < num:\n",
    "    n += 1\n",
    "    mayor=0\n",
    "    mayor= n**2\n",
    "    \n",
    "print('El número más cercano es {}'.format(n-1))"
   ]
  },
  {
   "cell_type": "code",
   "execution_count": 38,
   "metadata": {},
   "outputs": [
    {
     "output_type": "stream",
     "name": "stdout",
     "text": [
      "Vida mía\nCielo\nCielito\nMi vida\nMi luz\nLuz de mis ojos\nBebecita\nCariño\nPapacito\nCariño mío\nCari\nCorazón\nMi rey\nOsito\nBombón\nDulzura\nGalletita\n"
     ]
    }
   ],
   "source": [
    "palabras = ['Cretino', 'Vida mía', 'Baboso', 'Bocachancla','Cielo', 'Cielito', 'Mi vida', 'Mi luz', \n",
    "            'Luz de mis ojos', 'Bebecita', 'Cariño', 'Papacito', 'Zoquete', 'Cariño mío', 'Patan', 'Cari', \n",
    "            'Corazón', 'Mi rey', 'Lerdo','Osito', 'Bombón', 'Charlatan', 'Dulzura', 'Galletita', \n",
    "            'Fanfarrón']\n",
    "ofensas = ['Baboso', 'Bocachancla', 'Charlatan', 'Cretino', 'Fanfarrón', 'Lerdo', 'Patan', 'Zoquete']\n",
    "\n",
    "for piropos in palabras:\n",
    "    if piropos  not in ofensas:\n",
    "        print (piropos)\n",
    "\n"
   ]
  },
  {
   "cell_type": "code",
   "execution_count": 40,
   "metadata": {},
   "outputs": [
    {
     "output_type": "stream",
     "name": "stdout",
     "text": [
      "frutas 320\nvegetales 655\njuguetes 880\ncereales 375\ndetergente 450\nhogar 200\nfarmacia 499\npapel 1000\notros 932\n"
     ]
    }
   ],
   "source": [
    "item = ['frutas', 'vegetales', 'juguetes', 'cereales', 'detergente', 'hogar', 'farmacia', 'papel', 'otros']\n",
    "peso = [320, 655, 880, 375, 450, 200, 499, 1000, 932]\n",
    "\n",
    "for n, w in zip(item, peso):\n",
    "    print(n, w)"
   ]
  },
  {
   "cell_type": "code",
   "execution_count": 43,
   "metadata": {},
   "outputs": [
    {
     "output_type": "stream",
     "name": "stdout",
     "text": [
      "[(0, 1, 2, 'A'), (1, 3, 4, 'B'), (-2, 5, 6, 'C'), (14, 7, 8, 'D'), (-5, 9, 10, 'F'), (4, 11, 12, 'E'), (5, 13, 14, 'F')]\n"
     ]
    }
   ],
   "source": [
    "x0 = [0, 1, -2, 14, -5, 4, 5]\n",
    "x1 = [1, 3, 5, 7, 9, 11, 13]\n",
    "x2 = [2, 4, 6, 8, 10, 12, 14]\n",
    "letras = ['A', 'B', 'C', 'D', 'F', 'E', 'F']\n",
    "\n",
    "print(list(zip(x0,x1,x2,letras)))\n"
   ]
  },
  {
   "cell_type": "code",
   "execution_count": 44,
   "metadata": {},
   "outputs": [
    {
     "output_type": "stream",
     "name": "stdout",
     "text": [
      "(1, 2, 3, 4, 5)\n(-1, -2, -3, -4, -5)\n"
     ]
    }
   ],
   "source": [
    "tup = ((1,-1), (2,-2), (3,-3), (4,-4), (5,-5))\n",
    "\n",
    "pos, neg = zip(*tup)\n",
    "\n",
    "print(pos)\n",
    "print(neg)"
   ]
  },
  {
   "cell_type": "code",
   "execution_count": 49,
   "metadata": {},
   "outputs": [
    {
     "output_type": "stream",
     "name": "stdout",
     "text": [
      "[[1, 5, 9, 13, 17], [2, 6, 10, 14, 18], [3, 7, 11, 15, 19], [4, 8, 12, 16, 20]]\n"
     ]
    }
   ],
   "source": [
    "matriz5x4 = (( 1, 2, 3, 4),\n",
    "             ( 5, 6, 7, 8),\n",
    "             ( 9,10,11,12),\n",
    "             (13,14,15,16),\n",
    "             (17,18,19,20))\n",
    "\n",
    "matriz4x5 = []\n",
    "splitmat = zip(*matriz5x4)\n",
    "matriz4x5=[list(v2) for v2 in splitmat]\n",
    "\n",
    "print(matriz4x5)"
   ]
  },
  {
   "cell_type": "code",
   "execution_count": 50,
   "metadata": {},
   "outputs": [
    {
     "output_type": "stream",
     "name": "stdout",
     "text": [
      "['Vasco', 'Luis', 'Juan', 'Pedro', 'Gutierre', 'Juan']\n"
     ]
    }
   ],
   "source": [
    "conquistadores = ['Vasco Núnez de Balboa', 'Luis de Moscoso Alvarado', 'Juan de Cárdenas',\n",
    "                  'Pedro de Heredia', 'Gutierre de Miranda', 'Juan de Salcedo']\n",
    "\n",
    "lista=[x.split()[0] for x in conquistadores]\n",
    "print(lista)\n"
   ]
  },
  {
   "cell_type": "code",
   "execution_count": 52,
   "metadata": {},
   "outputs": [
    {
     "output_type": "stream",
     "name": "stdout",
     "text": [
      "[3, 5, 17, 257, 65537, 4294967297, 18446744073709551617, 340282366920938463463374607431768211457, 115792089237316195423570985008687907853269984665640564039457584007913129639937, 13407807929942597099574024998205846127479365820592393377723561443721764030073546976801874298166903427690031858186486050853753882811946569946433649006084097]\n"
     ]
    }
   ],
   "source": [
    "y= [ 2**(2**i)+1 for i in range(10)]\n",
    "print(y)"
   ]
  },
  {
   "cell_type": "code",
   "execution_count": 54,
   "metadata": {},
   "outputs": [
    {
     "output_type": "stream",
     "name": "stdout",
     "text": [
      "['Jerry Coleman', 'Joe Garagiola, Sr.', 'Curt Gowdy', 'Russ Hodges']\n"
     ]
    }
   ],
   "source": [
    "major_league_players = {'Mel Allen':1978, 'Red Barber':1978, 'Jerry Coleman':2005,\n",
    "          'Joe Garagiola, Sr.':1991, 'Curt Gowdy':1984, 'Ken Harrelson':2020,\n",
    "          'Al Helfer':2019, 'Russ Hodges':1980}\n",
    "\n",
    "player=[i  for i in major_league_players if major_league_players[i] >= 1980 and major_league_players[i] <= 2015 ]\n",
    "print(player)"
   ]
  },
  {
   "cell_type": "code",
   "execution_count": null,
   "metadata": {},
   "outputs": [],
   "source": []
  }
 ]
}