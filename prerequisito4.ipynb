{
 "metadata": {
  "language_info": {
   "codemirror_mode": {
    "name": "ipython",
    "version": 3
   },
   "file_extension": ".py",
   "mimetype": "text/x-python",
   "name": "python",
   "nbconvert_exporter": "python",
   "pygments_lexer": "ipython3",
   "version": "3.8.3-final"
  },
  "orig_nbformat": 2,
  "kernelspec": {
   "name": "Python 3.8.3 64-bit ('base': conda)",
   "display_name": "Python 3.8.3 64-bit ('base': conda)",
   "metadata": {
    "interpreter": {
     "hash": "1442c7a9ee0d39e7c5495675b38f297327be27a3ea54894fa6715e1cf6325188"
    }
   }
  }
 },
 "nbformat": 4,
 "nbformat_minor": 2,
 "cells": [
  {
   "cell_type": "code",
   "execution_count": 6,
   "metadata": {},
   "outputs": [
    {
     "output_type": "stream",
     "name": "stdout",
     "text": [
      "157.0796327\n"
     ]
    }
   ],
   "source": [
    "\n",
    "a = 10\n",
    "b = 5\n",
    "def area_elipse(a,b):\n",
    "    area = round(3.141592653*a*b,7)\n",
    "    return (area)\n",
    "\n",
    "print(area_elipse(a,b))"
   ]
  },
  {
   "cell_type": "code",
   "execution_count": 8,
   "metadata": {},
   "outputs": [
    {
     "output_type": "stream",
     "name": "stdout",
     "text": [
      "50.265482464\n la linea de pi_medio, ya que utiliza la variable pi que esta dentro de la funcion \n"
     ]
    }
   ],
   "source": [
    "\n",
    "def area_circulo(r):\n",
    "    pi = 3.141592654\n",
    "    print(pi*r**2)\n",
    "\n",
    "area_circulo(4)\n",
    "#pi_medio = pi/2\n",
    "print(\"\"\" la linea de pi_medio, ya que utiliza la variable pi que esta dentro de la funcion \"\"\" )\n"
   ]
  },
  {
   "cell_type": "code",
   "execution_count": null,
   "metadata": {},
   "outputs": [],
   "source": [
    "def area_trapecio(a, b, h):\n",
    "    \"\"\"\n",
    "    CALCULA EL AREA DEL TRAPEZOIDE DATA BASE, ALTURA Y PARTE SUPERIOR\n",
    "                   a\n",
    "                 ______       _\n",
    "               /       \\      |\n",
    "              /         \\     h\n",
    "             /___________\\   _|_\n",
    "                   b\n",
    "    \n",
    "    ENTRADAS:\n",
    "    a:  parte superior del trapezoide\n",
    "    b:  parte inferior (base) del trapezoide\n",
    "    h:  altura del trapezoide\n",
    "    \n",
    "    RETORNA:\n",
    "    area_trapecio: el area del trapecio dada por la ecuación.\n",
    "    \"\"\"\n",
    "    area = (a + b)*h/2 # a y b, base y lado superior respectivamente; h es la altura\n",
    "    return area"
   ]
  }
 ]
}