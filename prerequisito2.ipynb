{
 "metadata": {
  "language_info": {
   "codemirror_mode": {
    "name": "ipython",
    "version": 3
   },
   "file_extension": ".py",
   "mimetype": "text/x-python",
   "name": "python",
   "nbconvert_exporter": "python",
   "pygments_lexer": "ipython3",
   "version": "3.8.3-final"
  },
  "orig_nbformat": 2,
  "kernelspec": {
   "name": "Python 3.8.3 64-bit ('base': conda)",
   "display_name": "Python 3.8.3 64-bit ('base': conda)",
   "metadata": {
    "interpreter": {
     "hash": "1442c7a9ee0d39e7c5495675b38f297327be27a3ea54894fa6715e1cf6325188"
    }
   }
  }
 },
 "nbformat": 4,
 "nbformat_minor": 2,
 "cells": [
  {
   "cell_type": "code",
   "execution_count": 2,
   "metadata": {},
   "outputs": [
    {
     "output_type": "stream",
     "name": "stdout",
     "text": [
      "resultado final:  28.666666666666668\n"
     ]
    }
   ],
   "source": [
    "promedio=(30+16+40)/3\n",
    "print('resultado final: ', + promedio)\n"
   ]
  },
  {
   "cell_type": "code",
   "execution_count": 15,
   "metadata": {},
   "outputs": [
    {
     "output_type": "stream",
     "name": "stdout",
     "text": [
      "3\n"
     ]
    }
   ],
   "source": [
    "a=(6*2.8)/0.5\n",
    "b=a/12\n",
    "print(int(b)+1)"
   ]
  },
  {
   "cell_type": "code",
   "execution_count": 16,
   "metadata": {},
   "outputs": [
    {
     "output_type": "stream",
     "name": "stdout",
     "text": [
      "Resultado esperado:  3305.4224999999997 2415.6\n"
     ]
    }
   ],
   "source": [
    "# un recipiente cilindrico de agua tiene (en pie cubicos)\n",
    "recipiente1 = 1e3\n",
    "# Se tiene otro recipiente de agua (in cubic metres)\n",
    "recipiente2 = 1.8e3\n",
    "\n",
    "\n",
    "# haga las siguientes operaciones\n",
    "# decremente la variable del recipiente 2 al 20%\n",
    "recipiente2=recipiente2-(recipiente2*0.2)\n",
    "# añada la variable de recipiente 1 a recipiente 2\n",
    "recipiente2=recipiente2+recipiente1\n",
    "# incremente el volumen del recipiente 1 al 5%\n",
    "recipiente1=recipiente1+(recipiente1*0.05)\n",
    "# decremente el recipiente 1 por 15%\n",
    "recipiente1=recipiente1-(recipiente1*0.15)\n",
    "# decremente el 0.3% del recipiente 1, \n",
    "recipiente1=recipiente1-(recipiente1*0.003)\n",
    "# decremente el 1% del recipiente2\n",
    "recipiente2=recipiente2-(recipiente2*0.01)\n",
    "# sume ambas variables en el recipiente1\n",
    "recipiente1=recipiente1+recipiente2\n",
    "# imprima el nuevo valor de las variables\n",
    "print('Resultado esperado: ', recipiente1, recipiente2)"
   ]
  },
  {
   "cell_type": "code",
   "execution_count": 18,
   "metadata": {},
   "outputs": [
    {
     "output_type": "stream",
     "name": "stdout",
     "text": [
      "Resultado esperado:  True\n"
     ]
    }
   ],
   "source": [
    "\n",
    "# temperatura de pais vs área de estudio\n",
    "tempPTY, areaPTY = 38.5, 102\n",
    "tempCOL, areaCOL = 29.2, 150\n",
    "\n",
    "# temp/m2\n",
    "tempm2_pty = tempPTY/areaPTY\n",
    "tempm2_col = tempCOL/areaCOL\n",
    "\n",
    "# escriba el restante de código que indica si la temp/m2 de pty es mayor a la temp/m2 de col\n",
    "print('Resultado esperado: ', tempm2_pty>tempm2_col)"
   ]
  },
  {
   "cell_type": "code",
   "execution_count": 19,
   "metadata": {},
   "outputs": [
    {
     "output_type": "stream",
     "name": "stdout",
     "text": [
      "¿Porqué en Python para comparar no podemos utilizar = sino ==?\n\nporque el simbolo == en python significa \"igual que\" y el simbolo = lo usamos para asignar valores.\n"
     ]
    }
   ],
   "source": [
    "print('¿Porqué en Python para comparar no podemos utilizar = sino ==?')\n",
    "print('')\n",
    "print('porque el simbolo == en python significa \"igual que\" y el simbolo = lo usamos para asignar valores.')"
   ]
  },
  {
   "cell_type": "code",
   "execution_count": 27,
   "metadata": {},
   "outputs": [
    {
     "output_type": "stream",
     "name": "stdout",
     "text": [
      "Ser-O-No-Ser-He allí-El Dilema\n"
     ]
    }
   ],
   "source": [
    "\n",
    "# TODO:  Arregle lo que está mal\n",
    "\n",
    "quote = 'Ser-O-No-''Ser''-''He allí-El Dilema'\n",
    "# LA RESPUESTA ESPERADA DEBE SER:  Ser-O-No-Ser-He allí-El Dilema\n",
    "print(quote)"
   ]
  },
  {
   "cell_type": "code",
   "execution_count": 45,
   "metadata": {},
   "outputs": [
    {
     "output_type": "stream",
     "name": "stdout",
     "text": [
      "Resultado esperado  37\n<class 'int'>\n"
     ]
    }
   ],
   "source": [
    "\n",
    "fruta = 25\n",
    "vegetales = 12\n",
    "\n",
    "total_fruta_y_vegetal = fruta + vegetales\n",
    "print('Resultado esperado ', total_fruta_y_vegetal)\n",
    "print(type(total_fruta_y_vegetal))\n"
   ]
  },
  {
   "cell_type": "code",
   "execution_count": 35,
   "metadata": {},
   "outputs": [
    {
     "output_type": "stream",
     "name": "stdout",
     "text": [
      "Ignacio exited the http://minegocio.com/id/nmasaya/me at 04:50\n"
     ]
    }
   ],
   "source": [
    "username = 'Ignacio'\n",
    "ts = \"04:50\"\n",
    "url = \"http://minegocio.com/id/nmasaya/me\"\n",
    "\n",
    "# TODO: imprimir un mensaje como que se muestra a continuación\n",
    "print(username,'exited the', url, 'at', ts)"
   ]
  },
  {
   "cell_type": "code",
   "execution_count": 36,
   "metadata": {},
   "outputs": [
    {
     "output_type": "stream",
     "name": "stdout",
     "text": [
      "True\n"
     ]
    }
   ],
   "source": [
    "nombre = \"Juan\"\n",
    "seg_nombre = \"Javier\"\n",
    "apellido = \"Jimenez\"\n",
    "\n",
    "# calcular el largo del nombre\n",
    "name_length = len(nombre)+len(seg_nombre)+len(apellido)\n",
    "\n",
    "# Ahora que calculó el largo del nombre intente  ver si cabe en la licencia\n",
    "driving_license_character_limit = 28\n",
    "print(name_length <= driving_license_character_limit)"
   ]
  },
  {
   "cell_type": "code",
   "execution_count": 43,
   "metadata": {},
   "outputs": [
    {
     "output_type": "stream",
     "name": "stdout",
     "text": [
      "<class 'str'>\n<class 'float'>\n<class 'int'>\n"
     ]
    }
   ],
   "source": [
    "\n",
    "print(type(\"12\"))\n",
    "\n",
    "print(type(12.3))\n",
    "\n",
    "print(type(len('i am a string')))"
   ]
  },
  {
   "cell_type": "code",
   "execution_count": 38,
   "metadata": {},
   "outputs": [
    {
     "output_type": "stream",
     "name": "stdout",
     "text": [
      "¿Qué pasa cuando se llama al método islower() para cuando es un punto flotante?\nRetorna True\nRetorna False\nRetorna error\n\nrespuesta: da error \n"
     ]
    }
   ],
   "source": [
    "print(\"\"\"¿Qué pasa cuando se llama al método islower() para cuando es un punto flotante?\n",
    "Retorna True\n",
    "Retorna False\n",
    "Retorna error\n",
    "\n",
    "respuesta: da error \"\"\")"
   ]
  },
  {
   "cell_type": "code",
   "execution_count": 42,
   "metadata": {},
   "outputs": [
    {
     "output_type": "stream",
     "name": "stdout",
     "text": [
      "9\n"
     ]
    }
   ],
   "source": [
    "name='camila rojas'\n",
    "x=name.index('j')\n",
    "print(x)"
   ]
  },
  {
   "cell_type": "code",
   "execution_count": 47,
   "metadata": {},
   "outputs": [
    {
     "output_type": "stream",
     "name": "stdout",
     "text": [
      "hola mi nombre es camila rojas y tengo 24 años\n"
     ]
    }
   ],
   "source": [
    "# Escriba un código donde asigne un valor a una variable\n",
    "# Ahora imprima en pantalla con print() pero usando .format() para las variables que se asigno anteriormente e imprima estas dos variables\n",
    "v1= 'camila rojas'\n",
    "v2= '24'\n",
    "print('hola mi nombre es {} y tengo {} años'.format(v1,v2))"
   ]
  },
  {
   "cell_type": "code",
   "execution_count": 48,
   "metadata": {},
   "outputs": [
    {
     "output_type": "stream",
     "name": "stdout",
     "text": [
      "31\n"
     ]
    }
   ],
   "source": [
    "\n",
    "mes = 8\n",
    "dias_del_mes = [31,28,31,30,31,30,31,31,30,31,30,31]\n",
    "\n",
    "# Use indexing para determinar el número de días en el mes 8\n",
    "num_dias =  dias_del_mes[mes-1] \n",
    "print(num_dias)"
   ]
  },
  {
   "cell_type": "code",
   "execution_count": 50,
   "metadata": {},
   "outputs": [
    {
     "output_type": "stream",
     "name": "stdout",
     "text": [
      "['Mar 20, 1492', 'Abril 12, 1999', 'Jun 12, 2010']\n"
     ]
    }
   ],
   "source": [
    "dias = ['Feb 8, 1980', 'Dic 8, 1949', \n",
    "        'Mar 20, 1492', 'Abril 12, 1999',\n",
    "        'Jun 12, 2010']\n",
    "                 \n",
    "# Imprima los ultimos tres elementos de la lista\n",
    "print(dias[2:])"
   ]
  },
  {
   "cell_type": "code",
   "execution_count": 57,
   "metadata": {},
   "outputs": [
    {
     "output_type": "stream",
     "name": "stdout",
     "text": [
      "al evaluar el caso de p1 da error, ya que es una cadena y no una lista, por ello lo deje en comentario Quisiera que se terminara la materia\n  \nAl evaluar los casos para p2 recibimos lo siguiente ['Que', 'quisiera', 'se', 'terminara', 'que', 'materia']\n"
     ]
    }
   ],
   "source": [
    "#Suponga que tenemos las siguientes expresiones:\n",
    "\n",
    "p1 = \"Quisiera que se terminara la materia\" \n",
    "p2 = [\"Quisiera\", \"que\", \"se\", \"terminara\", \"la\", \"materia\"]\n",
    "\n",
    "#¿Qué sucede cuando evaluamos estos casos con cada una de las palabras p1 y p2?\n",
    "\n",
    "p2[4] = \"que\"\n",
    "p2[0]= \"Quisira que\"\n",
    "#p1[30]=\"a\"\n",
    "p2[0:2] = [\"Que\", \"quisiera\"]\n",
    "\n",
    "print('al evaluar el caso de p1 da error, ya que es una cadena y no una lista, por ello lo deje en comentario', p1)\n",
    "print('  ')\n",
    "print(\"\"\"Al evaluar los casos para p2 recibimos lo siguiente {}\"\"\" .format(p2))"
   ]
  },
  {
   "cell_type": "code",
   "execution_count": 58,
   "metadata": {},
   "outputs": [
    {
     "output_type": "stream",
     "name": "stdout",
     "text": [
      "4\n2\n"
     ]
    }
   ],
   "source": [
    "\n",
    "a = [1, 5, 8]\n",
    "b = [2, 6, 9, 10]\n",
    "c = [100, 200]\n",
    "\n",
    "print(max([len(a), len(b), len(c)]))\n",
    "print(min([len(a), len(b), len(c)]))"
   ]
  },
  {
   "cell_type": "code",
   "execution_count": 59,
   "metadata": {},
   "outputs": [
    {
     "output_type": "stream",
     "name": "stdout",
     "text": [
      "Cuatro & Dos & Tres & Uno\n"
     ]
    }
   ],
   "source": [
    "names = [\"Uno\", \"Dos\", \"Tres\", \"Cuatro\"]\n",
    "print(\" & \".join(sorted(names)))"
   ]
  },
  {
   "cell_type": "code",
   "execution_count": 60,
   "metadata": {},
   "outputs": [
    {
     "output_type": "stream",
     "name": "stdout",
     "text": [
      "['Armando', 'Ignacio', 'Luis', 'Norberto', 'Tito']\n"
     ]
    }
   ],
   "source": [
    "names = [\"Norberto\", \"Ignacio\", \"Luis\", \"Tito\"]\n",
    "names.append(\"Armando\")\n",
    "print(sorted(names))"
   ]
  },
  {
   "cell_type": "code",
   "execution_count": 61,
   "metadata": {},
   "outputs": [
    {
     "output_type": "stream",
     "name": "stdout",
     "text": [
      "False\n8\n"
     ]
    }
   ],
   "source": [
    "tuple_a = 2, 8\n",
    "tuple_b = (8, 2)\n",
    "\n",
    "print(tuple_a == tuple_b)\n",
    "print(tuple_a[1])"
   ]
  },
  {
   "cell_type": "code",
   "execution_count": 62,
   "metadata": {},
   "outputs": [
    {
     "output_type": "stream",
     "name": "stdout",
     "text": [
      "6\n"
     ]
    }
   ],
   "source": [
    "a = [1, 2, 2, 4, 4, 4, 8, 8, 8, 8]\n",
    "b = set(a)\n",
    "print(len(a) - len(b))"
   ]
  },
  {
   "cell_type": "code",
   "execution_count": 67,
   "metadata": {},
   "outputs": [
    {
     "output_type": "stream",
     "name": "stdout",
     "text": [
      "{1, 2, 7, 9, 12, 15, 111, -1}\n \nsí el 111 seguira siendo parte del set\n"
     ]
    }
   ],
   "source": [
    "a = [0, -1, -1, 2, 1, 2, 7, 9, 12, 15]\n",
    "b = set(a)\n",
    "b.add(111)\n",
    "b.pop()\n",
    "print(b)\n",
    "print(' ')\n",
    "print('sí el 111 seguira siendo parte del set')"
   ]
  },
  {
   "cell_type": "code",
   "execution_count": 68,
   "metadata": {},
   "outputs": [
    {
     "output_type": "stream",
     "name": "stdout",
     "text": [
      "{'Panama': 5.9, 'Costa Rica': 6.2, 'Colombia': 8.4, 'mexico': 1.2}\n"
     ]
    }
   ],
   "source": [
    "my_dict={ 'Panama':5.9, 'Costa Rica':6.2, 'Colombia':8.4, 'mexico':1.2}\n",
    "print(my_dict)"
   ]
  },
  {
   "cell_type": "code",
   "execution_count": 69,
   "metadata": {},
   "outputs": [
    {
     "output_type": "stream",
     "name": "stdout",
     "text": [
      "¿Cuáles de las siguientes pueden ser utilizadas como diccionario?\n\nstr\nlist\nint\nfloat\n\n*str, int, float pueden ser utilizadas como diccionario\n"
     ]
    }
   ],
   "source": [
    "print(\"\"\"¿Cuáles de las siguientes pueden ser utilizadas como diccionario?\n",
    "\n",
    "str\n",
    "list\n",
    "int\n",
    "float\n",
    "\n",
    "*str, int, float pueden ser utilizadas como diccionario\"\"\" )"
   ]
  },
  {
   "cell_type": "code",
   "execution_count": 70,
   "metadata": {},
   "outputs": [
    {
     "output_type": "error",
     "ename": "KeyError",
     "evalue": "'veraguas'",
     "traceback": [
      "\u001b[1;31m---------------------------------------------------------------------------\u001b[0m",
      "\u001b[1;31mKeyError\u001b[0m                                  Traceback (most recent call last)",
      "\u001b[1;32m<ipython-input-70-5e90f584830e>\u001b[0m in \u001b[0;36m<module>\u001b[1;34m\u001b[0m\n\u001b[0;32m      1\u001b[0m \u001b[0mmy_dict\u001b[0m\u001b[1;33m=\u001b[0m\u001b[1;33m{\u001b[0m \u001b[1;34m'Panama'\u001b[0m\u001b[1;33m:\u001b[0m\u001b[1;36m5.9\u001b[0m\u001b[1;33m,\u001b[0m \u001b[1;34m'Costa Rica'\u001b[0m\u001b[1;33m:\u001b[0m\u001b[1;36m6.2\u001b[0m\u001b[1;33m,\u001b[0m \u001b[1;34m'Colombia'\u001b[0m\u001b[1;33m:\u001b[0m\u001b[1;36m8.4\u001b[0m\u001b[1;33m,\u001b[0m \u001b[1;34m'mexico'\u001b[0m\u001b[1;33m:\u001b[0m\u001b[1;36m1.2\u001b[0m\u001b[1;33m}\u001b[0m\u001b[1;33m\u001b[0m\u001b[1;33m\u001b[0m\u001b[0m\n\u001b[1;32m----> 2\u001b[1;33m \u001b[0mprint\u001b[0m\u001b[1;33m(\u001b[0m\u001b[0mmy_dict\u001b[0m\u001b[1;33m[\u001b[0m\u001b[1;34m'veraguas'\u001b[0m\u001b[1;33m]\u001b[0m\u001b[1;33m)\u001b[0m\u001b[1;33m\u001b[0m\u001b[1;33m\u001b[0m\u001b[0m\n\u001b[0m",
      "\u001b[1;31mKeyError\u001b[0m: 'veraguas'"
     ]
    }
   ],
   "source": [
    "my_dict={ 'Panama':5.9, 'Costa Rica':6.2, 'Colombia':8.4, 'mexico':1.2}\n",
    "print(my_dict['veraguas'])"
   ]
  },
  {
   "cell_type": "code",
   "execution_count": 73,
   "metadata": {},
   "outputs": [
    {
     "output_type": "stream",
     "name": "stdout",
     "text": [
      "15\n2\n3\n0.8\n"
     ]
    }
   ],
   "source": [
    "items = {'harina': [20, 10, 15, 8, 32, 15], \n",
    " 'carne': [3,4,2,8,2,4], \n",
    " 'pan': [2, 3, 3], \n",
    " 'cc': [0.3, 0.5, 0.8, 0.3, 1]}\n",
    "\n",
    "print(items['harina'][2])\n",
    "print(items['carne'][2])\n",
    "print(items['pan'][2])\n",
    "print(items['cc'][2])\n"
   ]
  },
  {
   "cell_type": "code",
   "execution_count": 74,
   "metadata": {},
   "outputs": [
    {
     "output_type": "stream",
     "name": "stdout",
     "text": [
      "{'Ana': {'edad': 24, 'peso': 110, 'sexo': 'F'}, 'Javi': {'edad': 12, 'peso': 90, 'sexo': 'M'}}\n{'edad': 12, 'peso': 90, 'sexo': 'M'}\nNone No existe Juan\n"
     ]
    }
   ],
   "source": [
    "datos = {'Ana':{'edad':24, 'peso':110, 'sexo':'F'},\n",
    "         'Javi':{'edad':12, 'peso':90, 'sexo':'M'}}\n",
    "print(datos)\n",
    "print(datos.get('Javi'))\n",
    "print(datos.get('Juan'), 'No existe Juan')\n"
   ]
  },
  {
   "cell_type": "code",
   "execution_count": 78,
   "metadata": {},
   "outputs": [
    {
     "output_type": "stream",
     "name": "stdout",
     "text": [
      "True\nFalse\n"
     ]
    }
   ],
   "source": [
    "\n",
    "datos = {'Ana':{'edad':24, 'peso':110, 'sexo':'F', 'estudiante':True},\n",
    "         'Javi':{'edad':12, 'peso':90, 'sexo':'M', 'estudiante': False}}\n",
    "\n",
    "\n",
    "print(datos['Ana']['estudiante'])\n",
    "\n",
    "print(datos['Javi']['estudiante'])"
   ]
  },
  {
   "cell_type": "code",
   "execution_count": null,
   "metadata": {},
   "outputs": [],
   "source": []
  }
 ]
}